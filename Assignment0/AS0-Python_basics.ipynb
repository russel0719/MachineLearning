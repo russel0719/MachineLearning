{
 "cells": [
  {
   "cell_type": "markdown",
   "metadata": {
    "colab_type": "text",
    "id": "GjIaRT-5ULos"
   },
   "source": [
    "# M2608.001300 기계학습 기초 및 전기정보 응용<br> Assignment 0: Python Basics"
   ]
  },
  {
   "cell_type": "markdown",
   "metadata": {
    "colab_type": "text",
    "id": "kbWpPPQKULow"
   },
   "source": [
    "## Problem 1: Selection Sort\n",
    "\n",
    "아래 selection sort 함수를 구현해보세요. \n",
    "YOUR CODE COMES HERE 라는 주석이 있는 곳을 채우면 됩니다."
   ]
  },
  {
   "cell_type": "code",
   "execution_count": 1,
   "metadata": {
    "colab": {},
    "colab_type": "code",
    "id": "EyYXu1hzULoy"
   },
   "outputs": [],
   "source": [
    "def selection_sort(arr):\n",
    "    # YOUR CODE COMES HERE\n",
    "    return arr"
   ]
  },
  {
   "cell_type": "code",
   "execution_count": 2,
   "metadata": {
    "colab": {},
    "colab_type": "code",
    "id": "cT_dRw1vULo4",
    "outputId": "9eeae819-4aba-498c-87b9-fb9983677ead",
    "scrolled": false
   },
   "outputs": [
    {
     "name": "stdout",
     "output_type": "stream",
     "text": [
      "array:  [4, 16, 3, 11, 4, 17, 17, 6, 12, 13, 20, 20, 4, 16, 15, 15, 9, 8, 8, 4]\n",
      "sorted: [4, 16, 3, 11, 4, 17, 17, 6, 12, 13, 20, 20, 4, 16, 15, 15, 9, 8, 8, 4]\n",
      "\n",
      "Q: Is the array sorted?\n",
      "A: False\n"
     ]
    }
   ],
   "source": [
    "import random\n",
    "array = [random.randint(0, 20) for _ in range(20)]\n",
    "print('array: ', array)\n",
    "\n",
    "array_sorted = selection_sort(array)\n",
    "print('sorted:', array_sorted)\n",
    "\n",
    "print()\n",
    "print('Q: Is the array sorted?')\n",
    "print('A:', sorted(array) == array_sorted)"
   ]
  },
  {
   "cell_type": "markdown",
   "metadata": {
    "colab_type": "text",
    "id": "v4K9EF1rULo-"
   },
   "source": [
    "## Problem 2: Classes\n",
    "\n",
    "Selection sort, insertion sort, merge sort를 아래 class의 instance method로 구현해 보세요. <br>\n",
    "YOUR CODE COMES HERE 라는 주석이 있는 곳을 채우면 됩니다."
   ]
  },
  {
   "cell_type": "code",
   "execution_count": 3,
   "metadata": {
    "colab": {},
    "colab_type": "code",
    "id": "XAtRozsxULo_"
   },
   "outputs": [],
   "source": [
    "class Sorter:\n",
    "    def __init__(self, method):\n",
    "        self.method = method\n",
    "        \n",
    "    @staticmethod\n",
    "    def of(method):\n",
    "        return Sorter(method)\n",
    "        \n",
    "    def sort(self, arr):\n",
    "        if self.method == 'selection_sort':\n",
    "            return self.selection_sort(arr)\n",
    "        \n",
    "        elif self.method == 'insertion_sort':\n",
    "            return self.insertion_sort(arr)\n",
    "        \n",
    "        elif self.method == 'merge_sort':\n",
    "            return self.merge_sort(arr)\n",
    "        \n",
    "        else:\n",
    "            raise ValueError('Unknown method: %s' % method)\n",
    "\n",
    "    def selection_sort(self, arr):\n",
    "        # YOUR CODE COMES HERE\n",
    "        return arr\n",
    "    \n",
    "    def insertion_sort(self, arr):\n",
    "        # YOUR CODE COMES HERE\n",
    "        return arr\n",
    "    \n",
    "    def merge_sort(self, arr):\n",
    "        # YOUR CODE COMES HERE\n",
    "        return arr"
   ]
  },
  {
   "cell_type": "code",
   "execution_count": 4,
   "metadata": {
    "colab": {},
    "colab_type": "code",
    "id": "E1tKG55IULpE",
    "outputId": "f167b091-e202-4604-b8ac-d4fcaf2005ec"
   },
   "outputs": [
    {
     "name": "stdout",
     "output_type": "stream",
     "text": [
      "selection_sort sorted? False\n",
      "insertion_sort sorted? False\n",
      "merge_sort sorted? False\n"
     ]
    }
   ],
   "source": [
    "algorithms = ['selection_sort', 'insertion_sort', 'merge_sort']\n",
    "for algorithm in algorithms:\n",
    "    array = [random.randint(0, 20) for _ in range(20)]\n",
    "    sorter = Sorter.of(algorithm)\n",
    "    array_sorted = sorter.sort(array)\n",
    "    print('%s sorted? %s' % (algorithm, sorted(array) == array_sorted))"
   ]
  },
  {
   "cell_type": "code",
   "execution_count": null,
   "metadata": {
    "colab": {},
    "colab_type": "code",
    "id": "wj0K50Q5ULpI"
   },
   "outputs": [],
   "source": []
  }
 ],
 "metadata": {
  "anaconda-cloud": {},
  "colab": {
   "name": "AS0-Python_basics.ipynb",
   "provenance": []
  },
  "kernelspec": {
   "display_name": "Python 3 (ipykernel)",
   "language": "python",
   "name": "python3"
  },
  "language_info": {
   "codemirror_mode": {
    "name": "ipython",
    "version": 3
   },
   "file_extension": ".py",
   "mimetype": "text/x-python",
   "name": "python",
   "nbconvert_exporter": "python",
   "pygments_lexer": "ipython3",
   "version": "3.9.7"
  }
 },
 "nbformat": 4,
 "nbformat_minor": 1
}
